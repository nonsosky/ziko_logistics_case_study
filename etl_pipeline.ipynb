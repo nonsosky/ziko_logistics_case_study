{
 "cells": [
  {
   "cell_type": "code",
   "execution_count": 1,
   "metadata": {},
   "outputs": [],
   "source": [
    "# Import Necessary Libraries\n",
    "import pandas as pd"
   ]
  },
  {
   "cell_type": "code",
   "execution_count": 2,
   "metadata": {},
   "outputs": [],
   "source": [
    "# Extraction Layer\n",
    "ziko_df = pd.read_csv(r'ziko_logistics_data.csv')"
   ]
  },
  {
   "cell_type": "code",
   "execution_count": 4,
   "metadata": {},
   "outputs": [
    {
     "name": "stdout",
     "output_type": "stream",
     "text": [
      "<class 'pandas.core.frame.DataFrame'>\n",
      "RangeIndex: 1005 entries, 0 to 1004\n",
      "Data columns (total 25 columns):\n",
      " #   Column                 Non-Null Count  Dtype  \n",
      "---  ------                 --------------  -----  \n",
      " 0   Transaction_ID         1005 non-null   int64  \n",
      " 1   Date                   1005 non-null   object \n",
      " 2   Customer_ID            1005 non-null   int64  \n",
      " 3   Product_ID             1005 non-null   int64  \n",
      " 4   Quantity               1005 non-null   int64  \n",
      " 5   Unit_Price             904 non-null    float64\n",
      " 6   Total_Cost             905 non-null    float64\n",
      " 7   Discount_Rate          714 non-null    float64\n",
      " 8   Sales_Channel          1005 non-null   object \n",
      " 9   Order_Priority         1005 non-null   object \n",
      " 10  Warehouse_Code         1005 non-null   object \n",
      " 11  Ship_Mode              1005 non-null   object \n",
      " 12  Delivery_Status        1005 non-null   object \n",
      " 13  Customer_Satisfaction  1005 non-null   object \n",
      " 14  Item_Returned          1005 non-null   bool   \n",
      " 15  Return_Reason          904 non-null    object \n",
      " 16  Payment_Type           1005 non-null   object \n",
      " 17  Taxable                1005 non-null   bool   \n",
      " 18  Region                 1005 non-null   object \n",
      " 19  Country                1005 non-null   object \n",
      " 20  Customer_Name          1005 non-null   object \n",
      " 21  Customer_Phone         1005 non-null   object \n",
      " 22  Customer_Email         1005 non-null   object \n",
      " 23  Customer_Address       1005 non-null   object \n",
      " 24  Product_List_Title     1005 non-null   object \n",
      "dtypes: bool(2), float64(3), int64(4), object(16)\n",
      "memory usage: 182.7+ KB\n"
     ]
    }
   ],
   "source": [
    "ziko_df.info()"
   ]
  }
 ],
 "metadata": {
  "kernelspec": {
   "display_name": "Python 3",
   "language": "python",
   "name": "python3"
  },
  "language_info": {
   "codemirror_mode": {
    "name": "ipython",
    "version": 3
   },
   "file_extension": ".py",
   "mimetype": "text/x-python",
   "name": "python",
   "nbconvert_exporter": "python",
   "pygments_lexer": "ipython3",
   "version": "3.12.4"
  }
 },
 "nbformat": 4,
 "nbformat_minor": 2
}
